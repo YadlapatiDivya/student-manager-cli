{
 "cells": [
  {
   "cell_type": "code",
   "execution_count": null,
   "metadata": {},
   "outputs": [],
   "source": [
    "class student:\n",
    "    def __init__(self,name,rollno,grade):\n",
    "        self.name=name\n",
    "        self.rollno=rollno\n",
    "        self.grade=grade\n",
    "    def stu_details(self):\n",
    "        print(\"Name: \",self.name)\n",
    "        print(\"Roll No.: \",self.rollno)\n",
    "        print(\"Grade: \",self.grade)\n",
    "class stumanager:\n",
    "    def __init__(self):\n",
    "        self.stu=[]\n",
    "    def add_stu(self):\n",
    "        name=input(\"Enter your name: \")\n",
    "        rollno=int(input(\"Enter your rollno.: \"))\n",
    "        grade=input(\"Enter your Grade: \")\n",
    "        s=student(name,rollno,grade)\n",
    "        self.stu.append(s)\n",
    "        print(\"added successfully\")\n",
    "    def view_stu(self):\n",
    "        if self.stu:\n",
    "            print(\"---LIST OF STUDENTS---\")\n",
    "            for i in self.stu:\n",
    "                    i.stu_details()\n",
    "        else:\n",
    "            print(\"Student not found\")\n",
    "    def main_menu(self):\n",
    "        manager=stumanager()\n",
    "        while True:\n",
    "            print(\"---STUDENT MANAGEMENT MENU---\")\n",
    "            print(\"1. Add Student\")\n",
    "            print(\"2. View Student\")\n",
    "            print(\"3. Exit\")\n",
    "            choice=input(\"Enter your choice:\")\n",
    "            if choice=='1':\n",
    "                manager.add_stu()\n",
    "            elif choice=='2':\n",
    "                manager.view_stu()\n",
    "            elif choice=='3':\n",
    "                print(\"Exiting... Bye\")\n",
    "            else:\n",
    "                print(\"Enter a valid choice\")\n",
    "\n",
    "if __name__==\"__main__\":\n",
    "    manager=stumanager()\n",
    "    manager.main_menu()"
   ]
  },
  {
   "cell_type": "code",
   "execution_count": null,
   "metadata": {},
   "outputs": [],
   "source": []
  }
 ],
 "metadata": {
  "kernelspec": {
   "display_name": "Python 3",
   "language": "python",
   "name": "python3"
  },
  "language_info": {
   "codemirror_mode": {
    "name": "ipython",
    "version": 3
   },
   "file_extension": ".py",
   "mimetype": "text/x-python",
   "name": "python",
   "nbconvert_exporter": "python",
   "pygments_lexer": "ipython3",
   "version": "3.7.4"
  }
 },
 "nbformat": 4,
 "nbformat_minor": 2
}
